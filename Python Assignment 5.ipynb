{
 "cells": [
  {
   "cell_type": "markdown",
   "id": "76efc784-174f-4a1c-b8eb-06c92f4afa28",
   "metadata": {},
   "source": [
    "### Write a Python Program to Find LCM?"
   ]
  },
  {
   "cell_type": "code",
   "execution_count": 8,
   "id": "ab8ff022-62a7-432a-a5a8-9567e966ecad",
   "metadata": {},
   "outputs": [
    {
     "name": "stdout",
     "output_type": "stream",
     "text": [
      "60\n"
     ]
    }
   ],
   "source": [
    "import math\n",
    "from math import lcm\n",
    "print(lcm(12, 15))"
   ]
  },
  {
   "cell_type": "markdown",
   "id": "f4a7b988-154f-43cd-98c9-d3cb0261d12b",
   "metadata": {},
   "source": [
    "### Write a Python Program to Find HCF?"
   ]
  },
  {
   "cell_type": "code",
   "execution_count": 18,
   "id": "305b86a5-c596-47c9-83e3-285f87ed935d",
   "metadata": {},
   "outputs": [
    {
     "name": "stdout",
     "output_type": "stream",
     "text": [
      "The HCF is 12\n"
     ]
    }
   ],
   "source": [
    "from math import gcd\n",
    "print(\"The HCF is\", gcd(36, 60)) "
   ]
  },
  {
   "cell_type": "markdown",
   "id": "51216d47-c4e3-4b2b-9cfe-0f67700acc0f",
   "metadata": {},
   "source": [
    "### Write a Python Program to Convert Decimal to Binary, Octal and Hexadecimal?"
   ]
  },
  {
   "cell_type": "code",
   "execution_count": null,
   "id": "4c1c450a-d8c8-4c40-8fae-77081c97f6b7",
   "metadata": {},
   "outputs": [],
   "source": [
    "def convert_decimal(n):\n",
    "    print(f\"Decimal: {n}\")\n",
    "    print(f\"Binary: {bin(n)}\")\n",
    "    print(f\"Octal: {oct(n)}\")\n",
    "    print(f\"Hexadecimal: {hex(n)}\")\n",
    "convert_decimal(255)"
   ]
  },
  {
   "cell_type": "markdown",
   "id": "da28efa4-3fc8-4513-bd47-95aabc82d616",
   "metadata": {},
   "source": [
    "### Write a Python Program To Find ASCII value of a character?"
   ]
  },
  {
   "cell_type": "code",
   "execution_count": 16,
   "id": "61d88aeb-82e3-4090-b072-cb3944c6cd19",
   "metadata": {},
   "outputs": [
    {
     "name": "stdout",
     "output_type": "stream",
     "text": [
      "The ASCII value of 'A' is 65\n"
     ]
    }
   ],
   "source": [
    "char = 'A'\n",
    "ascii_value = ord(char)\n",
    "print(f\"The ASCII value of '{char}' is {ascii_value}\")"
   ]
  },
  {
   "cell_type": "markdown",
   "id": "e27de0d9-f87c-4af8-a174-aa3c39e8e311",
   "metadata": {},
   "source": [
    "### Write a Python Program to Make a Simple Calculator with 4 basic mathematical operations?"
   ]
  },
  {
   "cell_type": "code",
   "execution_count": 23,
   "id": "f331ed6a-df20-41ff-bb22-858780cb278c",
   "metadata": {},
   "outputs": [
    {
     "name": "stdin",
     "output_type": "stream",
     "text": [
      "Enter first number:  2\n",
      "Enter operation (+, -, *, /):  \\\\\n",
      "Enter second number:  5\n"
     ]
    },
    {
     "name": "stdout",
     "output_type": "stream",
     "text": [
      "Invalid operation!\n"
     ]
    }
   ],
   "source": [
    "# Simple Calculator Program\n",
    "num1 = float(input(\"Enter first number: \"))\n",
    "operation = input(\"Enter operation (+, -, *, /): \")\n",
    "num2 = float(input(\"Enter second number: \"))\n",
    "\n",
    "if operation == '+':\n",
    "    print(\"Result:\", num1 + num2)\n",
    "elif operation == '-':\n",
    "    print(\"Result:\", num1 - num2)\n",
    "elif operation == '*':\n",
    "    print(\"Result:\", num1 * num2)\n",
    "elif operation == '/':\n",
    "    if num2 != 0:\n",
    "        print(\"Result:\", num1 / num2)\n",
    "    else:\n",
    "        print(\"Error: Cannot divide by zero!\")\n",
    "else:\n",
    "    print(\"Invalid operation!\")"
   ]
  },
  {
   "cell_type": "code",
   "execution_count": null,
   "id": "98fdb235-cd28-4a0d-9c74-5bb54747cf1a",
   "metadata": {},
   "outputs": [],
   "source": []
  },
  {
   "cell_type": "code",
   "execution_count": null,
   "id": "237925c5-5af8-4abb-8c7b-1d5c6ccb6816",
   "metadata": {},
   "outputs": [],
   "source": []
  },
  {
   "cell_type": "code",
   "execution_count": null,
   "id": "327ffeb1-9539-4720-b671-49b8168a7b36",
   "metadata": {},
   "outputs": [],
   "source": []
  },
  {
   "cell_type": "code",
   "execution_count": null,
   "id": "9d7a77cb-848a-4920-a3c1-84ffa48764c4",
   "metadata": {},
   "outputs": [],
   "source": []
  },
  {
   "cell_type": "code",
   "execution_count": null,
   "id": "3d122573-3ecc-4880-87ea-bb7faed2fb6e",
   "metadata": {},
   "outputs": [],
   "source": []
  }
 ],
 "metadata": {
  "kernelspec": {
   "display_name": "Python [conda env:base] *",
   "language": "python",
   "name": "conda-base-py"
  },
  "language_info": {
   "codemirror_mode": {
    "name": "ipython",
    "version": 3
   },
   "file_extension": ".py",
   "mimetype": "text/x-python",
   "name": "python",
   "nbconvert_exporter": "python",
   "pygments_lexer": "ipython3",
   "version": "3.11.5"
  }
 },
 "nbformat": 4,
 "nbformat_minor": 5
}
